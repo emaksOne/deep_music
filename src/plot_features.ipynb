{
 "cells": [
  {
   "cell_type": "code",
   "execution_count": 87,
   "metadata": {
    "collapsed": true
   },
   "outputs": [],
   "source": [
    "%matplotlib inline\n",
    "import numpy as np\n",
    "import pandas as pd\n",
    "import matplotlib.pyplot as plt\n",
    "import seaborn as sns\n",
    "import sklearn as skl\n",
    "import pandas as pd\n",
    "from sklearn import decomposition\n",
    "from sklearn import preprocessing"
   ]
  },
  {
   "cell_type": "code",
   "execution_count": 88,
   "metadata": {
    "collapsed": true
   },
   "outputs": [],
   "source": [
    "def plot_points(group1, group2):\n",
    "    plt.scatter(group1[:,0], group1[:,1], c='b', marker='x', label='1')\n",
    "    plt.scatter(group2[:,0], group2[:,1], c='r', marker='o', label='-1')\n",
    "    plt.show()"
   ]
  },
  {
   "cell_type": "code",
   "execution_count": 120,
   "metadata": {},
   "outputs": [],
   "source": [
    "group1 = pd.read_csv('../csv/group_1_features.csv', header=0, index_col=0)\n",
    "group2 = pd.read_csv('../csv/group_2_features.csv', header=0, index_col=0)\n",
    "group1.fillna(0, inplace=True)"
   ]
  },
  {
   "cell_type": "code",
   "execution_count": 121,
   "metadata": {},
   "outputs": [],
   "source": [
    "pca1 = decomposition.PCA(n_components=2)\n",
    "pca1.fit(group1)\n",
    "group1_2d = pca1.transform(group1)\n",
    "\n",
    "pca2 = decomposition.PCA(n_components=2)\n",
    "pca2.fit(group2)\n",
    "group2_2d = pca2.transform(group2)\n",
    "\n",
    "scaler1 = preprocessing.StandardScaler().fit(group1_2d)\n",
    "group1_2d = scaler1.transform(group1_2d)\n",
    "\n",
    "scaler2 = preprocessing.StandardScaler().fit(group2_2d)\n",
    "group2_2d = scaler2.transform(group2_2d)"
   ]
  },
  {
   "cell_type": "code",
   "execution_count": 122,
   "metadata": {},
   "outputs": [
    {
     "data": {
      "image/png": "[encoded data removed]",
      "text/plain": [
       "<Figure size 432x288 with 1 Axes>"
      ]
     },
     "metadata": {},
     "output_type": "display_data"
    }
   ],
   "source": [
    "plot_points(group1_2d, group2_2d)"
   ]
  },
  {
   "cell_type": "code",
   "execution_count": null,
   "metadata": {
    "collapsed": true
   },
   "outputs": [],
   "source": []
  }
 ],
 "metadata": {
  "kernelspec": {
   "display_name": "Python 3",
   "language": "python",
   "name": "python3"
  },
  "language_info": {
   "codemirror_mode": {
    "name": "ipython",
    "version": 3
   },
   "file_extension": ".py",
   "mimetype": "text/x-python",
   "name": "python",
   "nbconvert_exporter": "python",
   "pygments_lexer": "ipython3",
   "version": "3.6.2"
  }
 },
 "nbformat": 4,
 "nbformat_minor": 1
}
